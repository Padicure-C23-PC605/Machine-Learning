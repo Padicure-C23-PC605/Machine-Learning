{
  "nbformat": 4,
  "nbformat_minor": 0,
  "metadata": {
    "colab": {
      "provenance": [],
      "gpuType": "T4"
    },
    "kernelspec": {
      "name": "python3",
      "display_name": "Python 3"
    },
    "language_info": {
      "name": "python"
    },
    "gpuClass": "standard",
    "accelerator": "GPU"
  },
  "cells": [
    {
      "cell_type": "code",
      "execution_count": 1,
      "metadata": {
        "colab": {
          "base_uri": "https://localhost:8080/"
        },
        "id": "53b8MsQWoAlU",
        "outputId": "cd684f23-fe3e-40c3-c4ab-80b76de161fd"
      },
      "outputs": [
        {
          "output_type": "stream",
          "name": "stdout",
          "text": [
            "Mounted at /content/drive\n"
          ]
        }
      ],
      "source": [
        "from google.colab import drive\n",
        "drive.mount('/content/drive')"
      ]
    },
    {
      "cell_type": "code",
      "source": [
        "pip install split-folders tqdm"
      ],
      "metadata": {
        "colab": {
          "base_uri": "https://localhost:8080/"
        },
        "id": "BX1-4uqfoGKD",
        "outputId": "e761c28d-534a-4263-9a63-9da5f7842241"
      },
      "execution_count": 2,
      "outputs": [
        {
          "output_type": "stream",
          "name": "stdout",
          "text": [
            "Looking in indexes: https://pypi.org/simple, https://us-python.pkg.dev/colab-wheels/public/simple/\n",
            "Collecting split-folders\n",
            "  Downloading split_folders-0.5.1-py3-none-any.whl (8.4 kB)\n",
            "Requirement already satisfied: tqdm in /usr/local/lib/python3.10/dist-packages (4.65.0)\n",
            "Installing collected packages: split-folders\n",
            "Successfully installed split-folders-0.5.1\n"
          ]
        }
      ]
    },
    {
      "cell_type": "code",
      "source": [
        "import tensorflow as tf\n",
        "import numpy as np\n",
        "import splitfolders\n",
        "import os\n",
        "from tensorflow.keras.preprocessing.image import ImageDataGenerator"
      ],
      "metadata": {
        "id": "0uybuTqg72n2"
      },
      "execution_count": 3,
      "outputs": []
    },
    {
      "cell_type": "code",
      "source": [
        "base_dir = '/content/drive/MyDrive/Dataset'"
      ],
      "metadata": {
        "id": "QvbhEdZPpSlZ"
      },
      "execution_count": 4,
      "outputs": []
    },
    {
      "cell_type": "markdown",
      "source": [
        "Split Dataset into 3 part: Train, Val, and Test"
      ],
      "metadata": {
        "id": "jArrkMrn-QSu"
      }
    },
    {
      "cell_type": "code",
      "source": [
        "splitfolders.ratio(\n",
        "    base_dir,\n",
        "    output='Capstone',\n",
        "    ratio=(.7, 0.2,0.1)\n",
        ")"
      ],
      "metadata": {
        "colab": {
          "base_uri": "https://localhost:8080/"
        },
        "id": "VCCCouqn6xlp",
        "outputId": "fcd8e253-0e59-4ba9-aeb0-7c32cdc71618"
      },
      "execution_count": 5,
      "outputs": [
        {
          "output_type": "stream",
          "name": "stderr",
          "text": [
            "Copying files: 2375 files [01:36, 24.65 files/s]\n"
          ]
        }
      ]
    },
    {
      "cell_type": "code",
      "source": [
        "train_dir = 'Capstone/train'\n",
        "val_dir = 'Capstone/val' \n",
        "test_dir = 'Capstone/test'\n",
        "\n",
        "os.listdir(train_dir)"
      ],
      "metadata": {
        "colab": {
          "base_uri": "https://localhost:8080/"
        },
        "id": "7sxcPxlg8HEX",
        "outputId": "e014fc43-d03d-4dc4-e778-f0ef4235c723"
      },
      "execution_count": 6,
      "outputs": [
        {
          "output_type": "execute_result",
          "data": {
            "text/plain": [
              "['Hispa', 'Healthy', 'BrownSpot', 'LeafBlast']"
            ]
          },
          "metadata": {},
          "execution_count": 6
        }
      ]
    },
    {
      "cell_type": "code",
      "source": [
        "class_name = ['Healthy', 'Hispa', 'BrownSpot', 'LeafBlast']"
      ],
      "metadata": {
        "id": "46T6UAnh8xfE"
      },
      "execution_count": 7,
      "outputs": []
    },
    {
      "cell_type": "markdown",
      "source": [
        "Data Augmentation"
      ],
      "metadata": {
        "id": "TPO-Bcif-Nbo"
      }
    },
    {
      "cell_type": "code",
      "source": [
        "train_datagen = ImageDataGenerator(\n",
        "                    rescale=1./255,\n",
        "                    rotation_range=0.45, \n",
        "                    width_shift_range=0.2,\n",
        "                     height_shift_range=0.2,\n",
        "                     zoom_range=(0.2), \n",
        "                     fill_mode='nearest', \n",
        "                    horizontal_flip=True,\n",
        "                    )\n",
        "\n",
        "test_datagen = ImageDataGenerator(rescale=1./255)\n",
        "validation_datagen = ImageDataGenerator(rescale=1./255)"
      ],
      "metadata": {
        "id": "Wl-hKSrb80fl"
      },
      "execution_count": 8,
      "outputs": []
    },
    {
      "cell_type": "code",
      "source": [
        "\n",
        "train_generator = train_datagen.flow_from_directory(\n",
        "    train_dir, \n",
        "    target_size=(150,150), \n",
        "    batch_size=45, \n",
        "    shuffle=True,\n",
        "    class_mode='categorical'\n",
        ")\n",
        "\n",
        "validation_generator = validation_datagen.flow_from_directory(\n",
        "    val_dir,\n",
        "    target_size=(150,150),\n",
        "    batch_size=45,\n",
        "    shuffle=True,\n",
        "    class_mode='categorical'\n",
        ")\n",
        "\n",
        "test_generator = test_datagen.flow_from_directory(\n",
        "    test_dir,\n",
        "    target_size=(150,150),\n",
        "    batch_size=45,\n",
        "    shuffle=True,\n",
        "    class_mode='categorical'\n",
        ")"
      ],
      "metadata": {
        "id": "TIydq1GC-kEp",
        "colab": {
          "base_uri": "https://localhost:8080/"
        },
        "outputId": "22fcc6a7-3640-4634-8e28-b893d4deb0c7"
      },
      "execution_count": 9,
      "outputs": [
        {
          "output_type": "stream",
          "name": "stdout",
          "text": [
            "Found 1661 images belonging to 4 classes.\n",
            "Found 474 images belonging to 4 classes.\n",
            "Found 240 images belonging to 4 classes.\n"
          ]
        }
      ]
    },
    {
      "cell_type": "markdown",
      "source": [
        "Modeling"
      ],
      "metadata": {
        "id": "CKs4bbfQ-3X4"
      }
    },
    {
      "cell_type": "code",
      "source": [
        "from keras.callbacks import EarlyStopping\n",
        "monitor_val_acc = EarlyStopping(monitor='val_accuracy', patience=3)"
      ],
      "metadata": {
        "id": "P-tOHtfJ-sXg"
      },
      "execution_count": 10,
      "outputs": []
    },
    {
      "cell_type": "code",
      "source": [
        "reduce_lr = tf.keras.callbacks.ReduceLROnPlateau(\n",
        "    monitor='val_accuracy',\n",
        "    patience = 2,\n",
        "    verbose=1,\n",
        "    factor=0.3,\n",
        "    min_lr=0.000001\n",
        ")"
      ],
      "metadata": {
        "id": "pMLBJixrX9f-"
      },
      "execution_count": 11,
      "outputs": []
    },
    {
      "cell_type": "code",
      "source": [
        "from tensorflow.keras.applications import InceptionV3\n",
        "tfmodel = InceptionV3(weights='imagenet', \n",
        "                                include_top=False, \n",
        "                                input_shape=(150,150,3))"
      ],
      "metadata": {
        "id": "it6kHkh-YUMc",
        "colab": {
          "base_uri": "https://localhost:8080/"
        },
        "outputId": "e6b14a84-e5e8-4d61-eae9-b16d3a00380a"
      },
      "execution_count": 12,
      "outputs": [
        {
          "output_type": "stream",
          "name": "stdout",
          "text": [
            "Downloading data from https://storage.googleapis.com/tensorflow/keras-applications/inception_v3/inception_v3_weights_tf_dim_ordering_tf_kernels_notop.h5\n",
            "87910968/87910968 [==============================] - 1s 0us/step\n"
          ]
        }
      ]
    },
    {
      "cell_type": "code",
      "source": [
        "from keras.models import Sequential\n",
        "from keras import optimizers, losses, activations, models\n",
        "from keras.layers import Convolution2D, Dense, Input, Flatten, Dropout, MaxPooling2D, BatchNormalization, GlobalAveragePooling2D"
      ],
      "metadata": {
        "id": "g-0rzujKYugj"
      },
      "execution_count": 13,
      "outputs": []
    },
    {
      "cell_type": "code",
      "source": [
        "model = Sequential()\n",
        "model.add(tfmodel)\n",
        "model.add(GlobalAveragePooling2D())\n",
        "model.add(Flatten())\n",
        "model.add(Dense(512, activation='relu'))\n",
        "model.add(Dense(256, activation='relu'))\n",
        "model.add(Dropout(0.4))      \n",
        "model.add(Dense(16, activation='relu'))\n",
        "model.add(Dense(4, activation='softmax'))\n",
        "\n",
        "model.compile(loss='categorical_crossentropy', \n",
        "              optimizer=optimizers.Adam(learning_rate=1e-4),\n",
        "              metrics=['accuracy'])"
      ],
      "metadata": {
        "id": "SFFCEVWW_AWu"
      },
      "execution_count": 14,
      "outputs": []
    },
    {
      "cell_type": "code",
      "source": [
        "model.summary()"
      ],
      "metadata": {
        "colab": {
          "base_uri": "https://localhost:8080/"
        },
        "id": "5HR6QHBfA3q3",
        "outputId": "265a09d0-38b3-4b9d-dead-c312f4eef662"
      },
      "execution_count": 15,
      "outputs": [
        {
          "output_type": "stream",
          "name": "stdout",
          "text": [
            "Model: \"sequential\"\n",
            "_________________________________________________________________\n",
            " Layer (type)                Output Shape              Param #   \n",
            "=================================================================\n",
            " inception_v3 (Functional)   (None, 3, 3, 2048)        21802784  \n",
            "                                                                 \n",
            " global_average_pooling2d (G  (None, 2048)             0         \n",
            " lobalAveragePooling2D)                                          \n",
            "                                                                 \n",
            " flatten (Flatten)           (None, 2048)              0         \n",
            "                                                                 \n",
            " dense (Dense)               (None, 512)               1049088   \n",
            "                                                                 \n",
            " dense_1 (Dense)             (None, 256)               131328    \n",
            "                                                                 \n",
            " dropout (Dropout)           (None, 256)               0         \n",
            "                                                                 \n",
            " dense_2 (Dense)             (None, 16)                4112      \n",
            "                                                                 \n",
            " dense_3 (Dense)             (None, 4)                 68        \n",
            "                                                                 \n",
            "=================================================================\n",
            "Total params: 22,987,380\n",
            "Trainable params: 22,952,948\n",
            "Non-trainable params: 34,432\n",
            "_________________________________________________________________\n"
          ]
        }
      ]
    },
    {
      "cell_type": "code",
      "source": [
        "history = model.fit(train_generator,\n",
        "                    epochs=50,\n",
        "                    callbacks=[monitor_val_acc,reduce_lr],\n",
        "                    validation_data=validation_generator)"
      ],
      "metadata": {
        "colab": {
          "base_uri": "https://localhost:8080/"
        },
        "id": "G7ogaD7mAkwm",
        "outputId": "458170e4-ad35-495d-b671-a129174ad5d4"
      },
      "execution_count": 16,
      "outputs": [
        {
          "output_type": "stream",
          "name": "stdout",
          "text": [
            "Epoch 1/50\n",
            "37/37 [==============================] - 296s 7s/step - loss: 1.3551 - accuracy: 0.3522 - val_loss: 1.2845 - val_accuracy: 0.4198 - lr: 1.0000e-04\n",
            "Epoch 2/50\n",
            "37/37 [==============================] - 271s 7s/step - loss: 1.1903 - accuracy: 0.4738 - val_loss: 1.1074 - val_accuracy: 0.5084 - lr: 1.0000e-04\n",
            "Epoch 3/50\n",
            "37/37 [==============================] - 272s 7s/step - loss: 1.0079 - accuracy: 0.5864 - val_loss: 1.2264 - val_accuracy: 0.5021 - lr: 1.0000e-04\n",
            "Epoch 4/50\n",
            "37/37 [==============================] - 277s 8s/step - loss: 0.8989 - accuracy: 0.6352 - val_loss: 1.1920 - val_accuracy: 0.5654 - lr: 1.0000e-04\n",
            "Epoch 5/50\n",
            "37/37 [==============================] - 278s 8s/step - loss: 0.8477 - accuracy: 0.6604 - val_loss: 0.9352 - val_accuracy: 0.6308 - lr: 1.0000e-04\n",
            "Epoch 6/50\n",
            "37/37 [==============================] - 279s 8s/step - loss: 0.7490 - accuracy: 0.7050 - val_loss: 1.0125 - val_accuracy: 0.6329 - lr: 1.0000e-04\n",
            "Epoch 7/50\n",
            "37/37 [==============================] - 276s 8s/step - loss: 0.6929 - accuracy: 0.7255 - val_loss: 0.9189 - val_accuracy: 0.6308 - lr: 1.0000e-04\n",
            "Epoch 8/50\n",
            "37/37 [==============================] - 276s 8s/step - loss: 0.6575 - accuracy: 0.7514 - val_loss: 0.9752 - val_accuracy: 0.6603 - lr: 1.0000e-04\n",
            "Epoch 9/50\n",
            "37/37 [==============================] - 271s 7s/step - loss: 0.6374 - accuracy: 0.7447 - val_loss: 0.9387 - val_accuracy: 0.6646 - lr: 1.0000e-04\n",
            "Epoch 10/50\n",
            "37/37 [==============================] - 269s 7s/step - loss: 0.6078 - accuracy: 0.7658 - val_loss: 0.8803 - val_accuracy: 0.6878 - lr: 1.0000e-04\n",
            "Epoch 11/50\n",
            "37/37 [==============================] - 270s 7s/step - loss: 0.5668 - accuracy: 0.7827 - val_loss: 0.8337 - val_accuracy: 0.7152 - lr: 1.0000e-04\n",
            "Epoch 12/50\n",
            "37/37 [==============================] - 270s 7s/step - loss: 0.5676 - accuracy: 0.7893 - val_loss: 0.8442 - val_accuracy: 0.7046 - lr: 1.0000e-04\n",
            "Epoch 13/50\n",
            "37/37 [==============================] - 269s 7s/step - loss: 0.5130 - accuracy: 0.8037 - val_loss: 0.7635 - val_accuracy: 0.7257 - lr: 1.0000e-04\n",
            "Epoch 14/50\n",
            "37/37 [==============================] - 270s 7s/step - loss: 0.4660 - accuracy: 0.8290 - val_loss: 0.8015 - val_accuracy: 0.7236 - lr: 1.0000e-04\n",
            "Epoch 15/50\n",
            "37/37 [==============================] - ETA: 0s - loss: 0.4707 - accuracy: 0.8236\n",
            "Epoch 15: ReduceLROnPlateau reducing learning rate to 2.9999999242136255e-05.\n",
            "37/37 [==============================] - 267s 7s/step - loss: 0.4707 - accuracy: 0.8236 - val_loss: 0.9572 - val_accuracy: 0.6709 - lr: 1.0000e-04\n",
            "Epoch 16/50\n",
            "37/37 [==============================] - 270s 7s/step - loss: 0.3962 - accuracy: 0.8525 - val_loss: 0.8290 - val_accuracy: 0.7152 - lr: 3.0000e-05\n"
          ]
        }
      ]
    },
    {
      "cell_type": "code",
      "source": [],
      "metadata": {
        "id": "Yrj7R1OX2bGm"
      },
      "execution_count": null,
      "outputs": []
    }
  ]
}