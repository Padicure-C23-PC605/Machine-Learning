{
  "nbformat": 4,
  "nbformat_minor": 0,
  "metadata": {
    "colab": {
      "provenance": [],
      "gpuType": "T4"
    },
    "kernelspec": {
      "name": "python3",
      "display_name": "Python 3"
    },
    "language_info": {
      "name": "python"
    },
    "gpuClass": "standard",
    "accelerator": "GPU"
  },
  "cells": [
    {
      "cell_type": "code",
      "execution_count": 1,
      "metadata": {
        "colab": {
          "base_uri": "https://localhost:8080/"
        },
        "id": "53b8MsQWoAlU",
        "outputId": "6081c901-90bf-4b6c-fb6a-45b347b8c6a0"
      },
      "outputs": [
        {
          "output_type": "stream",
          "name": "stdout",
          "text": [
            "Mounted at /content/drive\n"
          ]
        }
      ],
      "source": [
        "from google.colab import drive\n",
        "drive.mount('/content/drive')"
      ]
    },
    {
      "cell_type": "code",
      "source": [
        "pip install split-folders tqdm"
      ],
      "metadata": {
        "colab": {
          "base_uri": "https://localhost:8080/"
        },
        "id": "BX1-4uqfoGKD",
        "outputId": "43e9f365-1fdc-4153-e221-f2a469a254c8"
      },
      "execution_count": 2,
      "outputs": [
        {
          "output_type": "stream",
          "name": "stdout",
          "text": [
            "Looking in indexes: https://pypi.org/simple, https://us-python.pkg.dev/colab-wheels/public/simple/\n",
            "Collecting split-folders\n",
            "  Downloading split_folders-0.5.1-py3-none-any.whl (8.4 kB)\n",
            "Requirement already satisfied: tqdm in /usr/local/lib/python3.10/dist-packages (4.65.0)\n",
            "Installing collected packages: split-folders\n",
            "Successfully installed split-folders-0.5.1\n"
          ]
        }
      ]
    },
    {
      "cell_type": "code",
      "source": [
        "import tensorflow as tf\n",
        "import numpy as np\n",
        "import splitfolders\n",
        "import os\n",
        "from tensorflow.keras.preprocessing.image import ImageDataGenerator"
      ],
      "metadata": {
        "id": "0uybuTqg72n2"
      },
      "execution_count": 3,
      "outputs": []
    },
    {
      "cell_type": "code",
      "source": [
        "base_dir = '/content/drive/MyDrive/Dataset'"
      ],
      "metadata": {
        "id": "QvbhEdZPpSlZ"
      },
      "execution_count": 4,
      "outputs": []
    },
    {
      "cell_type": "markdown",
      "source": [
        "Split Dataset into 3 part: Train, Val, and Test"
      ],
      "metadata": {
        "id": "jArrkMrn-QSu"
      }
    },
    {
      "cell_type": "code",
      "source": [
        "splitfolders.ratio(\n",
        "    base_dir,\n",
        "    output='Capstone',\n",
        "    ratio=(.7, 0.2,0.1)\n",
        ")"
      ],
      "metadata": {
        "colab": {
          "base_uri": "https://localhost:8080/"
        },
        "id": "VCCCouqn6xlp",
        "outputId": "aa188bc8-2c4b-462c-fbd8-84c1cdd0505c"
      },
      "execution_count": 5,
      "outputs": [
        {
          "output_type": "stream",
          "name": "stderr",
          "text": [
            "Copying files: 2375 files [02:40, 14.83 files/s]\n"
          ]
        }
      ]
    },
    {
      "cell_type": "code",
      "source": [
        "train_dir = 'Capstone/train'\n",
        "val_dir = 'Capstone/val' \n",
        "test_dir = 'Capstone/test'\n",
        "\n",
        "os.listdir(train_dir)"
      ],
      "metadata": {
        "colab": {
          "base_uri": "https://localhost:8080/"
        },
        "id": "7sxcPxlg8HEX",
        "outputId": "d10c0ba0-7d20-4e97-fbd1-21891cbda802"
      },
      "execution_count": 6,
      "outputs": [
        {
          "output_type": "execute_result",
          "data": {
            "text/plain": [
              "['Healthy', 'Hispa', 'BrownSpot', 'LeafBlast']"
            ]
          },
          "metadata": {},
          "execution_count": 6
        }
      ]
    },
    {
      "cell_type": "code",
      "source": [
        "class_name = ['Healthy', 'Hispa', 'BrownSpot', 'LeafBlast']"
      ],
      "metadata": {
        "id": "46T6UAnh8xfE"
      },
      "execution_count": 7,
      "outputs": []
    },
    {
      "cell_type": "markdown",
      "source": [
        "Data Augmentation"
      ],
      "metadata": {
        "id": "TPO-Bcif-Nbo"
      }
    },
    {
      "cell_type": "code",
      "source": [
        "train_datagen = ImageDataGenerator(\n",
        "                    rescale=1./255,\n",
        "                    rotation_range=0.45, \n",
        "                    width_shift_range=0.2,\n",
        "                     height_shift_range=0.2,\n",
        "                     zoom_range=(0.2), \n",
        "                     fill_mode='nearest', \n",
        "                    horizontal_flip=True,\n",
        "                    )\n",
        "\n",
        "test_datagen = ImageDataGenerator(rescale=1./255)\n",
        "validation_datagen = ImageDataGenerator(rescale=1./255)"
      ],
      "metadata": {
        "id": "Wl-hKSrb80fl"
      },
      "execution_count": 8,
      "outputs": []
    },
    {
      "cell_type": "code",
      "source": [
        "train_generator = train_datagen.flow_from_directory(\n",
        "    train_dir, \n",
        "    target_size=(150,150), \n",
        "    batch_size=32, \n",
        "    shuffle=True,\n",
        "    class_mode='categorical'\n",
        ")\n",
        "\n",
        "validation_generator = validation_datagen.flow_from_directory(\n",
        "    val_dir,\n",
        "    target_size=(150,150),\n",
        "    batch_size=32,\n",
        "    shuffle=True,\n",
        "    class_mode='categorical'\n",
        ")\n",
        "\n",
        "test_generator = test_datagen.flow_from_directory(\n",
        "    test_dir,\n",
        "    target_size=(150,150),\n",
        "    batch_size=32,\n",
        "    shuffle=True,\n",
        "    class_mode='categorical'\n",
        ")"
      ],
      "metadata": {
        "id": "TIydq1GC-kEp",
        "colab": {
          "base_uri": "https://localhost:8080/"
        },
        "outputId": "b02404d2-8d34-453c-a815-a27232d79d41"
      },
      "execution_count": 9,
      "outputs": [
        {
          "output_type": "stream",
          "name": "stdout",
          "text": [
            "Found 1661 images belonging to 4 classes.\n",
            "Found 474 images belonging to 4 classes.\n",
            "Found 240 images belonging to 4 classes.\n"
          ]
        }
      ]
    },
    {
      "cell_type": "markdown",
      "source": [
        "Modeling"
      ],
      "metadata": {
        "id": "CKs4bbfQ-3X4"
      }
    },
    {
      "cell_type": "code",
      "source": [
        "from keras.callbacks import EarlyStopping\n",
        "monitor_val_acc = EarlyStopping(monitor='val_accuracy', patience=3)"
      ],
      "metadata": {
        "id": "P-tOHtfJ-sXg"
      },
      "execution_count": 10,
      "outputs": []
    },
    {
      "cell_type": "code",
      "source": [
        "from tensorflow.keras.applications import InceptionV3\n",
        "tfmodel = InceptionV3(weights='imagenet', \n",
        "                                include_top=False, \n",
        "                                input_shape=(150,150,3))"
      ],
      "metadata": {
        "id": "it6kHkh-YUMc",
        "colab": {
          "base_uri": "https://localhost:8080/"
        },
        "outputId": "f8aaa88c-a1bb-4c6d-ae32-0f76cad9165d"
      },
      "execution_count": 11,
      "outputs": [
        {
          "output_type": "stream",
          "name": "stdout",
          "text": [
            "Downloading data from https://storage.googleapis.com/tensorflow/keras-applications/inception_v3/inception_v3_weights_tf_dim_ordering_tf_kernels_notop.h5\n",
            "87910968/87910968 [==============================] - 4s 0us/step\n"
          ]
        }
      ]
    },
    {
      "cell_type": "code",
      "source": [
        "from keras.models import Sequential\n",
        "from keras import optimizers, losses, activations, models\n",
        "from keras.layers import Convolution2D, Dense, Input, Flatten, Dropout, MaxPooling2D, BatchNormalization, GlobalAveragePooling2D"
      ],
      "metadata": {
        "id": "g-0rzujKYugj"
      },
      "execution_count": 12,
      "outputs": []
    },
    {
      "cell_type": "code",
      "source": [
        "model = Sequential()\n",
        "model.add(tfmodel)\n",
        "model.add(GlobalAveragePooling2D())\n",
        "model.add(Flatten())\n",
        "model.add(Dense(512, activation='relu'))\n",
        "model.add(Dense(256, activation='relu'))\n",
        "model.add(Dropout(0.4))      \n",
        "model.add(Dense(16, activation='relu'))\n",
        "model.add(Dense(4, activation='softmax'))\n",
        "\n",
        "model.compile(loss='categorical_crossentropy', \n",
        "              optimizer=optimizers.Adam(),\n",
        "              metrics=['accuracy'])"
      ],
      "metadata": {
        "id": "SFFCEVWW_AWu"
      },
      "execution_count": 23,
      "outputs": []
    },
    {
      "cell_type": "code",
      "source": [
        "model.summary()"
      ],
      "metadata": {
        "colab": {
          "base_uri": "https://localhost:8080/"
        },
        "id": "5HR6QHBfA3q3",
        "outputId": "bee87ae9-70eb-4d18-fa99-29b5dcb66160"
      },
      "execution_count": 24,
      "outputs": [
        {
          "output_type": "stream",
          "name": "stdout",
          "text": [
            "Model: \"sequential_5\"\n",
            "_________________________________________________________________\n",
            " Layer (type)                Output Shape              Param #   \n",
            "=================================================================\n",
            " inception_v3 (Functional)   (None, 3, 3, 2048)        21802784  \n",
            "                                                                 \n",
            " global_average_pooling2d (G  (None, 2048)             0         \n",
            " lobalAveragePooling2D)                                          \n",
            "                                                                 \n",
            " flatten_5 (Flatten)         (None, 2048)              0         \n",
            "                                                                 \n",
            " dense_17 (Dense)            (None, 512)               1049088   \n",
            "                                                                 \n",
            " dense_18 (Dense)            (None, 256)               131328    \n",
            "                                                                 \n",
            " dropout_5 (Dropout)         (None, 256)               0         \n",
            "                                                                 \n",
            " dense_19 (Dense)            (None, 16)                4112      \n",
            "                                                                 \n",
            " dense_20 (Dense)            (None, 4)                 68        \n",
            "                                                                 \n",
            "=================================================================\n",
            "Total params: 22,987,380\n",
            "Trainable params: 22,952,948\n",
            "Non-trainable params: 34,432\n",
            "_________________________________________________________________\n"
          ]
        }
      ]
    },
    {
      "cell_type": "code",
      "source": [
        "history = model.fit(train_generator,\n",
        "                    epochs=50,\n",
        "                    callbacks=[monitor_val_acc],\n",
        "                    validation_data=validation_generator)"
      ],
      "metadata": {
        "colab": {
          "base_uri": "https://localhost:8080/"
        },
        "id": "G7ogaD7mAkwm",
        "outputId": "e5f125ae-645a-4a7e-ef4b-8faf2d9e72f0"
      },
      "execution_count": 25,
      "outputs": [
        {
          "output_type": "stream",
          "name": "stdout",
          "text": [
            "Epoch 1/50\n",
            "52/52 [==============================] - 731s 14s/step - loss: 1.4311 - accuracy: 0.2836 - val_loss: 9094.7451 - val_accuracy: 0.2194\n",
            "Epoch 2/50\n",
            "52/52 [==============================] - 722s 14s/step - loss: 1.3909 - accuracy: 0.2529 - val_loss: 94.8750 - val_accuracy: 0.3059\n",
            "Epoch 3/50\n",
            "52/52 [==============================] - 720s 14s/step - loss: 1.3841 - accuracy: 0.2986 - val_loss: 13.3705 - val_accuracy: 0.2932\n",
            "Epoch 4/50\n",
            "52/52 [==============================] - 719s 14s/step - loss: 1.3893 - accuracy: 0.2830 - val_loss: 1.9923 - val_accuracy: 0.2932\n",
            "Epoch 5/50\n",
            "52/52 [==============================] - 723s 14s/step - loss: 1.3818 - accuracy: 0.2896 - val_loss: 2.7817 - val_accuracy: 0.2932\n"
          ]
        }
      ]
    },
    {
      "cell_type": "code",
      "source": [],
      "metadata": {
        "id": "Yrj7R1OX2bGm"
      },
      "execution_count": null,
      "outputs": []
    }
  ]
}