{
  "nbformat": 4,
  "nbformat_minor": 0,
  "metadata": {
    "colab": {
      "provenance": [],
      "gpuType": "T4"
    },
    "kernelspec": {
      "name": "python3",
      "display_name": "Python 3"
    },
    "language_info": {
      "name": "python"
    },
    "accelerator": "GPU"
  },
  "cells": [
    {
      "cell_type": "code",
      "execution_count": 1,
      "metadata": {
        "colab": {
          "base_uri": "https://localhost:8080/"
        },
        "id": "tLvqxaitOU8o",
        "outputId": "0f767f72-8f9f-486b-cdd4-796e3d05795a"
      },
      "outputs": [
        {
          "output_type": "stream",
          "name": "stdout",
          "text": [
            "Mounted at /content/drive\n"
          ]
        }
      ],
      "source": [
        "from google.colab import drive\n",
        "drive.mount('/content/drive')"
      ]
    },
    {
      "cell_type": "code",
      "source": [
        "!pip install -q efficientnet"
      ],
      "metadata": {
        "id": "kRBG8ky9NiWx",
        "colab": {
          "base_uri": "https://localhost:8080/"
        },
        "outputId": "11643a88-486a-43da-f833-a6cab7747788"
      },
      "execution_count": 2,
      "outputs": [
        {
          "output_type": "stream",
          "name": "stdout",
          "text": [
            "\u001b[?25l     \u001b[90m━━━━━━━━━━━━━━━━━━━━━━━━━━━━━━━━━━━━━━━━\u001b[0m \u001b[32m0.0/50.7 kB\u001b[0m \u001b[31m?\u001b[0m eta \u001b[36m-:--:--\u001b[0m\r\u001b[2K     \u001b[90m━━━━━━━━━━━━━━━━━━━━━━━━━━━━━━━━━━━━━━━━\u001b[0m \u001b[32m50.7/50.7 kB\u001b[0m \u001b[31m5.6 MB/s\u001b[0m eta \u001b[36m0:00:00\u001b[0m\n",
            "\u001b[?25h"
          ]
        }
      ]
    },
    {
      "cell_type": "code",
      "source": [
        "import tensorflow as tf\n",
        "import numpy as np\n",
        "import os\n",
        "from tensorflow.keras.preprocessing.image import ImageDataGenerator\n",
        "from tensorflow.keras.callbacks import EarlyStopping\n",
        "\n",
        "import matplotlib.pyplot as plt\n",
        "\n",
        "import efficientnet.tfkeras as efn\n",
        "from tensorflow.keras.models import Sequential\n",
        "from tensorflow.keras.layers import InputLayer, BatchNormalization, Dropout, Flatten, Dense, Activation, MaxPooling2D, Conv2D, AveragePooling2D, GlobalAveragePooling2D"
      ],
      "metadata": {
        "id": "nuoiiEqHWzd9"
      },
      "execution_count": 3,
      "outputs": []
    },
    {
      "cell_type": "code",
      "source": [
        "train_dir = '/content/drive/MyDrive/Dataset/train'\n",
        "val_dir = '/content/drive/MyDrive/Dataset/val' \n",
        "test_dir = '/content/drive/MyDrive/Dataset/test'\n",
        "\n",
        "class_name = os.listdir(train_dir)"
      ],
      "metadata": {
        "id": "MkNl45lGWgDy"
      },
      "execution_count": 4,
      "outputs": []
    },
    {
      "cell_type": "code",
      "source": [
        "train_datagen = ImageDataGenerator(rescale = 1./255.,\n",
        "                                   rotation_range = 40,\n",
        "                                   width_shift_range = 0.2,\n",
        "                                   height_shift_range = 0.2,\n",
        "                                   shear_range = 0.2,\n",
        "                                   zoom_range = 0.2,\n",
        "                                   horizontal_flip = True)\n",
        "\n",
        "validation_datagen  = ImageDataGenerator( rescale = 1./255 )\n",
        "test_datagen = ImageDataGenerator(rescale=1./255)\n"
      ],
      "metadata": {
        "id": "wc4raTjAX4AM"
      },
      "execution_count": 5,
      "outputs": []
    },
    {
      "cell_type": "code",
      "source": [
        "train_generator = train_datagen.flow_from_directory(train_dir,\n",
        "                                                    batch_size = 32,\n",
        "                                                    class_mode = 'categorical',\n",
        "                                                    shuffle=True, \n",
        "                                                    target_size = (512, 512))   \n",
        "\n",
        "validation_generator = test_datagen.flow_from_directory(val_dir,\n",
        "                                                        batch_size = 32,\n",
        "                                                        class_mode = 'categorical',\n",
        "                                                        shuffle=True,  \n",
        "                                                        target_size = (512, 512))\n",
        "\n",
        "test_generator = test_datagen.flow_from_directory(test_dir,\n",
        "                                                        batch_size = 32,\n",
        "                                                        class_mode = 'categorical',\n",
        "                                                        shuffle=True,  \n",
        "                                                        target_size = (512, 512))"
      ],
      "metadata": {
        "colab": {
          "base_uri": "https://localhost:8080/"
        },
        "id": "wIyQ6q06aAj6",
        "outputId": "1d106852-8bc4-49b9-d23b-51f0f4cf4163"
      },
      "execution_count": 6,
      "outputs": [
        {
          "output_type": "stream",
          "name": "stdout",
          "text": [
            "Found 1818 images belonging to 4 classes.\n",
            "Found 224 images belonging to 4 classes.\n",
            "Found 230 images belonging to 4 classes.\n"
          ]
        }
      ]
    },
    {
      "cell_type": "code",
      "source": [
        "base_model = efn.EfficientNetB7(\n",
        "        input_shape=(512, 512, 3),\n",
        "        weights='imagenet',\n",
        "        include_top=False)"
      ],
      "metadata": {
        "id": "pBqRsqSQdgDV",
        "colab": {
          "base_uri": "https://localhost:8080/"
        },
        "outputId": "436e7424-9a56-4467-b1c9-3bb1544004de"
      },
      "execution_count": 7,
      "outputs": [
        {
          "output_type": "stream",
          "name": "stdout",
          "text": [
            "Downloading data from https://github.com/Callidior/keras-applications/releases/download/efficientnet/efficientnet-b7_weights_tf_dim_ordering_tf_kernels_autoaugment_notop.h5\n",
            "258434480/258434480 [==============================] - 10s 0us/step\n"
          ]
        }
      ]
    },
    {
      "cell_type": "code",
      "source": [
        "for layer in base_model.layers:\n",
        "  layer.trainable = False"
      ],
      "metadata": {
        "id": "N6-o6BJKd742"
      },
      "execution_count": 8,
      "outputs": []
    },
    {
      "cell_type": "code",
      "source": [
        "callback = tf.keras.callbacks.EarlyStopping(monitor='val_accuracy', patience=10)"
      ],
      "metadata": {
        "id": "UuncxP1G16zX"
      },
      "execution_count": 9,
      "outputs": []
    },
    {
      "cell_type": "markdown",
      "source": [
        "# **MODEL 1**"
      ],
      "metadata": {
        "id": "k4NRe8eptcEX"
      }
    },
    {
      "cell_type": "code",
      "source": [
        "model = Sequential()\n",
        "model.add(base_model)\n",
        "model.add(GlobalAveragePooling2D())\n",
        "model.add(Flatten())\n",
        "model.add(Dense(512, activation='relu'))\n",
        "model.add(Dropout(0.5))\n",
        "model.add(Dense(128, activation='relu'))\n",
        "model.add(Dense(32, activation='relu'))\n",
        "model.add(Dense(4,activation='softmax'))\n",
        "\n",
        "\n",
        "model.compile(loss='categorical_crossentropy', \n",
        "              optimizer=tf.keras.optimizers.Adam(learning_rate=0.0001),\n",
        "              metrics=['accuracy'])\n"
      ],
      "metadata": {
        "id": "myw0bXeHeFkW"
      },
      "execution_count": 10,
      "outputs": []
    },
    {
      "cell_type": "code",
      "source": [
        "model.summary()"
      ],
      "metadata": {
        "colab": {
          "base_uri": "https://localhost:8080/"
        },
        "id": "tD2uxnfsi1QK",
        "outputId": "fddc647c-b560-4047-91bd-d994c55816fd"
      },
      "execution_count": 11,
      "outputs": [
        {
          "output_type": "stream",
          "name": "stdout",
          "text": [
            "Model: \"sequential\"\n",
            "_________________________________________________________________\n",
            " Layer (type)                Output Shape              Param #   \n",
            "=================================================================\n",
            " efficientnet-b7 (Functional  (None, 16, 16, 2560)     64097680  \n",
            " )                                                               \n",
            "                                                                 \n",
            " global_average_pooling2d (G  (None, 2560)             0         \n",
            " lobalAveragePooling2D)                                          \n",
            "                                                                 \n",
            " flatten (Flatten)           (None, 2560)              0         \n",
            "                                                                 \n",
            " dense (Dense)               (None, 512)               1311232   \n",
            "                                                                 \n",
            " dropout (Dropout)           (None, 512)               0         \n",
            "                                                                 \n",
            " dense_1 (Dense)             (None, 128)               65664     \n",
            "                                                                 \n",
            " dense_2 (Dense)             (None, 32)                4128      \n",
            "                                                                 \n",
            " dense_3 (Dense)             (None, 4)                 132       \n",
            "                                                                 \n",
            "=================================================================\n",
            "Total params: 65,478,836\n",
            "Trainable params: 1,381,156\n",
            "Non-trainable params: 64,097,680\n",
            "_________________________________________________________________\n"
          ]
        }
      ]
    },
    {
      "cell_type": "code",
      "source": [
        "history = model.fit(\n",
        "            train_generator,\n",
        "            epochs=100,\n",
        "            validation_data=validation_generator,\n",
        "            callbacks = [callback]\n",
        "            )"
      ],
      "metadata": {
        "colab": {
          "base_uri": "https://localhost:8080/"
        },
        "id": "Uz3knZzHjTtp",
        "outputId": "095d4191-9285-4622-9c96-f4f682708fd9"
      },
      "execution_count": 12,
      "outputs": [
        {
          "output_type": "stream",
          "name": "stdout",
          "text": [
            "Epoch 1/100\n",
            "57/57 [==============================] - 1210s 21s/step - loss: 1.3530 - accuracy: 0.3526 - val_loss: 1.2368 - val_accuracy: 0.5045\n",
            "Epoch 2/100\n",
            "57/57 [==============================] - 188s 3s/step - loss: 1.2297 - accuracy: 0.4659 - val_loss: 1.0726 - val_accuracy: 0.5536\n",
            "Epoch 3/100\n",
            "57/57 [==============================] - 179s 3s/step - loss: 1.1297 - accuracy: 0.5231 - val_loss: 1.0098 - val_accuracy: 0.5759\n",
            "Epoch 4/100\n",
            "57/57 [==============================] - 179s 3s/step - loss: 1.0471 - accuracy: 0.5792 - val_loss: 0.9132 - val_accuracy: 0.6429\n",
            "Epoch 5/100\n",
            "57/57 [==============================] - 185s 3s/step - loss: 1.0321 - accuracy: 0.5693 - val_loss: 0.9030 - val_accuracy: 0.6295\n",
            "Epoch 6/100\n",
            "57/57 [==============================] - 179s 3s/step - loss: 1.0054 - accuracy: 0.5880 - val_loss: 0.8694 - val_accuracy: 0.6205\n",
            "Epoch 7/100\n",
            "57/57 [==============================] - 186s 3s/step - loss: 0.9728 - accuracy: 0.5968 - val_loss: 0.8332 - val_accuracy: 0.6473\n",
            "Epoch 8/100\n",
            "57/57 [==============================] - 188s 3s/step - loss: 0.9448 - accuracy: 0.6150 - val_loss: 0.8297 - val_accuracy: 0.6562\n",
            "Epoch 9/100\n",
            "57/57 [==============================] - 179s 3s/step - loss: 0.9437 - accuracy: 0.6155 - val_loss: 0.8148 - val_accuracy: 0.6562\n",
            "Epoch 10/100\n",
            "57/57 [==============================] - 178s 3s/step - loss: 0.9177 - accuracy: 0.6315 - val_loss: 0.8098 - val_accuracy: 0.6696\n",
            "Epoch 11/100\n",
            "57/57 [==============================] - 181s 3s/step - loss: 0.9212 - accuracy: 0.6243 - val_loss: 0.7869 - val_accuracy: 0.6964\n",
            "Epoch 12/100\n",
            "57/57 [==============================] - 180s 3s/step - loss: 0.8933 - accuracy: 0.6579 - val_loss: 0.7960 - val_accuracy: 0.6473\n",
            "Epoch 13/100\n",
            "57/57 [==============================] - 177s 3s/step - loss: 0.8934 - accuracy: 0.6375 - val_loss: 0.7729 - val_accuracy: 0.6652\n",
            "Epoch 14/100\n",
            "57/57 [==============================] - 179s 3s/step - loss: 0.9013 - accuracy: 0.6348 - val_loss: 0.7692 - val_accuracy: 0.6786\n",
            "Epoch 15/100\n",
            "57/57 [==============================] - 185s 3s/step - loss: 0.8902 - accuracy: 0.6386 - val_loss: 0.7516 - val_accuracy: 0.6696\n",
            "Epoch 16/100\n",
            "57/57 [==============================] - 180s 3s/step - loss: 0.8869 - accuracy: 0.6397 - val_loss: 0.7489 - val_accuracy: 0.7009\n",
            "Epoch 17/100\n",
            "57/57 [==============================] - 177s 3s/step - loss: 0.8657 - accuracy: 0.6474 - val_loss: 0.7490 - val_accuracy: 0.7009\n",
            "Epoch 18/100\n",
            "57/57 [==============================] - 186s 3s/step - loss: 0.8646 - accuracy: 0.6551 - val_loss: 0.7437 - val_accuracy: 0.6964\n",
            "Epoch 19/100\n",
            "57/57 [==============================] - 179s 3s/step - loss: 0.8389 - accuracy: 0.6595 - val_loss: 0.7341 - val_accuracy: 0.6920\n",
            "Epoch 20/100\n",
            "57/57 [==============================] - 178s 3s/step - loss: 0.8543 - accuracy: 0.6639 - val_loss: 0.7660 - val_accuracy: 0.6786\n",
            "Epoch 21/100\n",
            "57/57 [==============================] - 175s 3s/step - loss: 0.8203 - accuracy: 0.6683 - val_loss: 0.7218 - val_accuracy: 0.6964\n",
            "Epoch 22/100\n",
            "57/57 [==============================] - 176s 3s/step - loss: 0.8464 - accuracy: 0.6694 - val_loss: 0.7179 - val_accuracy: 0.7143\n",
            "Epoch 23/100\n",
            "57/57 [==============================] - 176s 3s/step - loss: 0.8417 - accuracy: 0.6678 - val_loss: 0.7267 - val_accuracy: 0.6964\n",
            "Epoch 24/100\n",
            "57/57 [==============================] - 183s 3s/step - loss: 0.8295 - accuracy: 0.6733 - val_loss: 0.6884 - val_accuracy: 0.6920\n",
            "Epoch 25/100\n",
            "57/57 [==============================] - 177s 3s/step - loss: 0.8006 - accuracy: 0.6892 - val_loss: 0.6751 - val_accuracy: 0.7366\n",
            "Epoch 26/100\n",
            "57/57 [==============================] - 186s 3s/step - loss: 0.8111 - accuracy: 0.6799 - val_loss: 0.6804 - val_accuracy: 0.7366\n",
            "Epoch 27/100\n",
            "57/57 [==============================] - 177s 3s/step - loss: 0.8208 - accuracy: 0.6689 - val_loss: 0.7113 - val_accuracy: 0.7143\n",
            "Epoch 28/100\n",
            "57/57 [==============================] - 177s 3s/step - loss: 0.8027 - accuracy: 0.6821 - val_loss: 0.6954 - val_accuracy: 0.7098\n",
            "Epoch 29/100\n",
            "57/57 [==============================] - 176s 3s/step - loss: 0.7737 - accuracy: 0.6887 - val_loss: 0.6787 - val_accuracy: 0.7232\n",
            "Epoch 30/100\n",
            "57/57 [==============================] - 176s 3s/step - loss: 0.7818 - accuracy: 0.6854 - val_loss: 0.6846 - val_accuracy: 0.7366\n",
            "Epoch 31/100\n",
            "57/57 [==============================] - 178s 3s/step - loss: 0.7891 - accuracy: 0.6876 - val_loss: 0.6875 - val_accuracy: 0.7009\n",
            "Epoch 32/100\n",
            "57/57 [==============================] - 184s 3s/step - loss: 0.7873 - accuracy: 0.6964 - val_loss: 0.7073 - val_accuracy: 0.7232\n",
            "Epoch 33/100\n",
            "57/57 [==============================] - 178s 3s/step - loss: 0.7848 - accuracy: 0.6898 - val_loss: 0.6866 - val_accuracy: 0.7188\n",
            "Epoch 34/100\n",
            "57/57 [==============================] - 176s 3s/step - loss: 0.7898 - accuracy: 0.7002 - val_loss: 0.6715 - val_accuracy: 0.7411\n",
            "Epoch 35/100\n",
            "57/57 [==============================] - 174s 3s/step - loss: 0.7712 - accuracy: 0.6821 - val_loss: 0.6882 - val_accuracy: 0.7188\n",
            "Epoch 36/100\n",
            "57/57 [==============================] - 174s 3s/step - loss: 0.7946 - accuracy: 0.6854 - val_loss: 0.6695 - val_accuracy: 0.7500\n",
            "Epoch 37/100\n",
            "57/57 [==============================] - 174s 3s/step - loss: 0.7535 - accuracy: 0.7118 - val_loss: 0.6701 - val_accuracy: 0.7277\n",
            "Epoch 38/100\n",
            "57/57 [==============================] - 175s 3s/step - loss: 0.7645 - accuracy: 0.7019 - val_loss: 0.6569 - val_accuracy: 0.7277\n",
            "Epoch 39/100\n",
            "57/57 [==============================] - 180s 3s/step - loss: 0.7837 - accuracy: 0.6815 - val_loss: 0.6560 - val_accuracy: 0.7277\n",
            "Epoch 40/100\n",
            "57/57 [==============================] - 171s 3s/step - loss: 0.7605 - accuracy: 0.7030 - val_loss: 0.6614 - val_accuracy: 0.7455\n",
            "Epoch 41/100\n",
            "57/57 [==============================] - 180s 3s/step - loss: 0.7712 - accuracy: 0.7079 - val_loss: 0.6727 - val_accuracy: 0.7098\n",
            "Epoch 42/100\n",
            "57/57 [==============================] - 171s 3s/step - loss: 0.7443 - accuracy: 0.7074 - val_loss: 0.6720 - val_accuracy: 0.7366\n",
            "Epoch 43/100\n",
            "57/57 [==============================] - 172s 3s/step - loss: 0.7700 - accuracy: 0.6881 - val_loss: 0.6572 - val_accuracy: 0.7321\n",
            "Epoch 44/100\n",
            "57/57 [==============================] - 181s 3s/step - loss: 0.7585 - accuracy: 0.6931 - val_loss: 0.6684 - val_accuracy: 0.7277\n",
            "Epoch 45/100\n",
            "57/57 [==============================] - 181s 3s/step - loss: 0.7349 - accuracy: 0.7145 - val_loss: 0.6435 - val_accuracy: 0.7545\n",
            "Epoch 46/100\n",
            "57/57 [==============================] - 181s 3s/step - loss: 0.7799 - accuracy: 0.6903 - val_loss: 0.6444 - val_accuracy: 0.7679\n",
            "Epoch 47/100\n",
            "57/57 [==============================] - 181s 3s/step - loss: 0.7232 - accuracy: 0.7096 - val_loss: 0.6318 - val_accuracy: 0.7634\n",
            "Epoch 48/100\n",
            "57/57 [==============================] - 178s 3s/step - loss: 0.7492 - accuracy: 0.6975 - val_loss: 0.6334 - val_accuracy: 0.7589\n",
            "Epoch 49/100\n",
            "57/57 [==============================] - 184s 3s/step - loss: 0.7547 - accuracy: 0.6991 - val_loss: 0.6425 - val_accuracy: 0.7679\n",
            "Epoch 50/100\n",
            "57/57 [==============================] - 176s 3s/step - loss: 0.7464 - accuracy: 0.7134 - val_loss: 0.6305 - val_accuracy: 0.7679\n",
            "Epoch 51/100\n",
            "57/57 [==============================] - 174s 3s/step - loss: 0.7347 - accuracy: 0.7090 - val_loss: 0.6342 - val_accuracy: 0.7723\n",
            "Epoch 52/100\n",
            "57/57 [==============================] - 178s 3s/step - loss: 0.7277 - accuracy: 0.7134 - val_loss: 0.6286 - val_accuracy: 0.7723\n",
            "Epoch 53/100\n",
            "57/57 [==============================] - 177s 3s/step - loss: 0.7222 - accuracy: 0.7156 - val_loss: 0.6233 - val_accuracy: 0.7679\n",
            "Epoch 54/100\n",
            "57/57 [==============================] - 183s 3s/step - loss: 0.7334 - accuracy: 0.7228 - val_loss: 0.6178 - val_accuracy: 0.7545\n",
            "Epoch 55/100\n",
            "57/57 [==============================] - 175s 3s/step - loss: 0.7420 - accuracy: 0.7085 - val_loss: 0.6742 - val_accuracy: 0.7277\n",
            "Epoch 56/100\n",
            "57/57 [==============================] - 183s 3s/step - loss: 0.7215 - accuracy: 0.7178 - val_loss: 0.6200 - val_accuracy: 0.7589\n",
            "Epoch 57/100\n",
            "57/57 [==============================] - 173s 3s/step - loss: 0.7189 - accuracy: 0.7239 - val_loss: 0.6563 - val_accuracy: 0.7277\n",
            "Epoch 58/100\n",
            "57/57 [==============================] - 173s 3s/step - loss: 0.7158 - accuracy: 0.7173 - val_loss: 0.6338 - val_accuracy: 0.7545\n",
            "Epoch 59/100\n",
            "57/57 [==============================] - 174s 3s/step - loss: 0.7141 - accuracy: 0.7085 - val_loss: 0.6162 - val_accuracy: 0.7634\n",
            "Epoch 60/100\n",
            "57/57 [==============================] - 174s 3s/step - loss: 0.7210 - accuracy: 0.7277 - val_loss: 0.6316 - val_accuracy: 0.7634\n",
            "Epoch 61/100\n",
            "57/57 [==============================] - 173s 3s/step - loss: 0.6989 - accuracy: 0.7233 - val_loss: 0.6208 - val_accuracy: 0.7768\n",
            "Epoch 62/100\n",
            "57/57 [==============================] - 173s 3s/step - loss: 0.7256 - accuracy: 0.7211 - val_loss: 0.6176 - val_accuracy: 0.7768\n",
            "Epoch 63/100\n",
            "57/57 [==============================] - 175s 3s/step - loss: 0.7176 - accuracy: 0.7222 - val_loss: 0.6035 - val_accuracy: 0.7545\n",
            "Epoch 64/100\n",
            "57/57 [==============================] - 184s 3s/step - loss: 0.7060 - accuracy: 0.7206 - val_loss: 0.6029 - val_accuracy: 0.7768\n",
            "Epoch 65/100\n",
            "57/57 [==============================] - 188s 3s/step - loss: 0.7013 - accuracy: 0.7206 - val_loss: 0.6190 - val_accuracy: 0.7634\n",
            "Epoch 66/100\n",
            "57/57 [==============================] - 190s 3s/step - loss: 0.7062 - accuracy: 0.7305 - val_loss: 0.5991 - val_accuracy: 0.7902\n",
            "Epoch 67/100\n",
            "57/57 [==============================] - 196s 3s/step - loss: 0.6816 - accuracy: 0.7387 - val_loss: 0.5859 - val_accuracy: 0.7857\n",
            "Epoch 68/100\n",
            "57/57 [==============================] - 180s 3s/step - loss: 0.6923 - accuracy: 0.7277 - val_loss: 0.6125 - val_accuracy: 0.7589\n",
            "Epoch 69/100\n",
            "57/57 [==============================] - 186s 3s/step - loss: 0.7079 - accuracy: 0.7316 - val_loss: 0.6164 - val_accuracy: 0.7366\n",
            "Epoch 70/100\n",
            "57/57 [==============================] - 177s 3s/step - loss: 0.6918 - accuracy: 0.7376 - val_loss: 0.6214 - val_accuracy: 0.7812\n",
            "Epoch 71/100\n",
            "57/57 [==============================] - 175s 3s/step - loss: 0.6880 - accuracy: 0.7277 - val_loss: 0.6261 - val_accuracy: 0.7723\n",
            "Epoch 72/100\n",
            "57/57 [==============================] - 175s 3s/step - loss: 0.6996 - accuracy: 0.7283 - val_loss: 0.6227 - val_accuracy: 0.7589\n",
            "Epoch 73/100\n",
            "57/57 [==============================] - 173s 3s/step - loss: 0.7118 - accuracy: 0.7184 - val_loss: 0.6049 - val_accuracy: 0.7902\n",
            "Epoch 74/100\n",
            "57/57 [==============================] - 173s 3s/step - loss: 0.7236 - accuracy: 0.7085 - val_loss: 0.6240 - val_accuracy: 0.7679\n",
            "Epoch 75/100\n",
            "57/57 [==============================] - 181s 3s/step - loss: 0.6973 - accuracy: 0.7239 - val_loss: 0.6060 - val_accuracy: 0.7545\n",
            "Epoch 76/100\n",
            "57/57 [==============================] - 172s 3s/step - loss: 0.6889 - accuracy: 0.7272 - val_loss: 0.5962 - val_accuracy: 0.7857\n"
          ]
        }
      ]
    },
    {
      "cell_type": "code",
      "source": [
        "model.save(\"Model2.h5\")"
      ],
      "metadata": {
        "id": "jY5WWJZ58eIG"
      },
      "execution_count": 13,
      "outputs": []
    },
    {
      "cell_type": "code",
      "source": [
        "import matplotlib.pyplot as plt\n",
        "import matplotlib\n",
        "\n",
        "fig, ax = plt.subplots(1, 2, figsize=(20, 3))\n",
        "ax = ax.ravel()\n",
        "\n",
        "for i, met in enumerate(['accuracy', 'loss']):\n",
        "    ax[i].plot(history.history[met])\n",
        "    ax[i].plot(history.history['val_' + met])\n",
        "    ax[i].set_title('Model {}'.format(met))\n",
        "    ax[i].set_xlabel('epochs')\n",
        "    ax[i].set_ylabel(met)\n",
        "    ax[i].legend(['train', 'val'])"
      ],
      "metadata": {
        "id": "FDQ_BbMC8hPz",
        "colab": {
          "base_uri": "https://localhost:8080/",
          "height": 201
        },
        "outputId": "464ec44e-aa12-4df8-eef0-1982007fbec3"
      },
      "execution_count": 14,
      "outputs": [
        {
          "output_type": "display_data",
          "data": {
            "text/plain": [
              "<Figure size 2000x300 with 2 Axes>"
            ],
            "image/png": "[encoded data removed]"
          },
          "metadata": {}
        }
      ]
    },
    {
      "cell_type": "code",
      "source": [
        "model.evaluate(test_generator)"
      ],
      "metadata": {
        "id": "HViYL_Vm8of1",
        "colab": {
          "base_uri": "https://localhost:8080/"
        },
        "outputId": "b9a50d19-5771-4536-906e-40fb6bf3c585"
      },
      "execution_count": 15,
      "outputs": [
        {
          "output_type": "stream",
          "name": "stdout",
          "text": [
            "8/8 [==============================] - 147s 21s/step - loss: 0.4974 - accuracy: 0.8217\n"
          ]
        },
        {
          "output_type": "execute_result",
          "data": {
            "text/plain": [
              "[0.49737775325775146, 0.821739137172699]"
            ]
          },
          "metadata": {},
          "execution_count": 15
        }
      ]
    }
  ]
}